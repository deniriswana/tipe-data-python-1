{
  "nbformat": 4,
  "nbformat_minor": 0,
  "metadata": {
    "colab": {
      "name": "tipe_data_python.ipynb",
      "provenance": [],
      "collapsed_sections": [],
      "authorship_tag": "ABX9TyMND3kCghfkPIuUYixi32Cb",
      "include_colab_link": true
    },
    "kernelspec": {
      "name": "python3",
      "display_name": "Python 3"
    },
    "language_info": {
      "name": "python"
    }
  },
  "cells": [
    {
      "cell_type": "markdown",
      "metadata": {
        "id": "view-in-github",
        "colab_type": "text"
      },
      "source": [
        "<a href=\"https://colab.research.google.com/github/deniriswana/tipe-data-python-1/blob/main/tipe_data_python.ipynb\" target=\"_parent\"><img src=\"https://colab.research.google.com/assets/colab-badge.svg\" alt=\"Open In Colab\"/></a>"
      ]
    },
    {
      "cell_type": "markdown",
      "source": [
        "# **Tipe Data pada Python**\n",
        "\n",
        "\n"
      ],
      "metadata": {
        "id": "n5kNrBT50t9C"
      }
    },
    {
      "cell_type": "markdown",
      "source": [
        "# Luaran Pembelajaran\n",
        "\n",
        "\n",
        "*   Mengenal tipe data bawaan Python\n",
        "*   Mengenal fungsi print()\n",
        "*   Mengenal fungsi type()\n",
        "*   Fungsi beberapa kutip\n",
        "\n",
        "\n",
        "\n",
        "\n",
        "\n",
        "\n"
      ],
      "metadata": {
        "id": "4Cj-c6sUfVzC"
      }
    },
    {
      "cell_type": "markdown",
      "source": [
        "# Variable dan Tipe Data\n",
        "Variabel merupakan tempat menyimpan data, sedangkan tipe data adalah jenis data yang terseimpan dalam variabel. \n"
      ],
      "metadata": {
        "id": "6bPpv7kzfnw1"
      }
    },
    {
      "cell_type": "code",
      "source": [
        "#proses inisialisasi variabel\n",
        "nama_variabel = \"nilai\""
      ],
      "metadata": {
        "id": "5A5MIfmBAp0n"
      },
      "execution_count": null,
      "outputs": []
    },
    {
      "cell_type": "code",
      "source": [
        "nama = \"Budi Setiawan\""
      ],
      "metadata": {
        "id": "sJhQoVMpBpNW"
      },
      "execution_count": null,
      "outputs": []
    },
    {
      "cell_type": "markdown",
      "source": [
        "# Jenis-Jenis Tipe Data\n",
        "Secara umum tipe data bawaan pada Python dibagi menjadi tiga jenis:\n",
        "1. Number\n",
        "2. str (text)\n",
        "3. Boolean\n",
        "\n",
        "Tipe data Number tipe data yang berisi angka. Tipe data number dibagi menjadi int, float dan complex.\n",
        "\n",
        "Tipe data integer adalah tipe data numerik yang menyimpan bilangan bulat, contohnya (1, 2, 3 dan seterusnya). "
      ],
      "metadata": {
        "id": "WGbosS5RApCy"
      }
    },
    {
      "cell_type": "code",
      "execution_count": null,
      "metadata": {
        "id": "-bbSjTZS0JMX"
      },
      "outputs": [],
      "source": [
        "#tipe data integer\n",
        "jml_mahasiswa = 55"
      ]
    },
    {
      "cell_type": "code",
      "source": [
        "print (jml_mahasiswa)"
      ],
      "metadata": {
        "colab": {
          "base_uri": "https://localhost:8080/"
        },
        "id": "L3IB1UnZ6xJw",
        "outputId": "996b505c-1c0f-4a06-b191-ae1328830856"
      },
      "execution_count": null,
      "outputs": [
        {
          "output_type": "stream",
          "name": "stdout",
          "text": [
            "55\n"
          ]
        }
      ]
    },
    {
      "cell_type": "markdown",
      "source": [
        "Tipe data float menyimpan bilangan pecahan atau bilangan riil, pemisah bilangan demisal yang digunakan adalah tanda titik (.)."
      ],
      "metadata": {
        "id": "MfS4-l0h9Xuf"
      }
    },
    {
      "cell_type": "code",
      "source": [
        "#tipe data float\n",
        "IPK = 3.9"
      ],
      "metadata": {
        "id": "yhACMkMx3bWZ"
      },
      "execution_count": null,
      "outputs": []
    },
    {
      "cell_type": "code",
      "source": [
        "print (IPK)"
      ],
      "metadata": {
        "colab": {
          "base_uri": "https://localhost:8080/"
        },
        "id": "HrVNC_DE61YI",
        "outputId": "06a7bbdf-cf89-4167-8efb-b6981a68728b"
      },
      "execution_count": null,
      "outputs": [
        {
          "output_type": "stream",
          "name": "stdout",
          "text": [
            "3.9\n"
          ]
        }
      ]
    },
    {
      "cell_type": "markdown",
      "source": [
        "Tipe data complex adalah tipe data yang menampung bilangan komplek atau sering juga disebut bilangan imajiner. Umumnya tipe data ini sangat jarang digunakan di kasus sehari-hari."
      ],
      "metadata": {
        "id": "T7d8DPNC9uyc"
      }
    },
    {
      "cell_type": "code",
      "source": [
        "#tipe data complex\n",
        "ab = 1 + 2j"
      ],
      "metadata": {
        "id": "o-J081O73ot3"
      },
      "execution_count": null,
      "outputs": []
    },
    {
      "cell_type": "code",
      "source": [
        "print (ab)"
      ],
      "metadata": {
        "colab": {
          "base_uri": "https://localhost:8080/"
        },
        "id": "I1LEFFqP65RZ",
        "outputId": "1f441423-5867-47e3-f1ee-6886719ccaf6"
      },
      "execution_count": null,
      "outputs": [
        {
          "output_type": "stream",
          "name": "stdout",
          "text": [
            "(1+2j)\n"
          ]
        }
      ]
    },
    {
      "cell_type": "markdown",
      "source": [
        "Tipe data string adalah tipe data yang berisi text, kalimat, atau kumpulan karakter. Penulisan tipe data string harus diapit oleh tanda petik tunggal ('...'), ganda (\"...\") atau petik tiga (\"\"\"...\"\"\"). Petik tiga digunakan untuk berpindah baris."
      ],
      "metadata": {
        "id": "dhCeGCXz38pr"
      }
    },
    {
      "cell_type": "code",
      "source": [
        "#tipe data string\n",
        "nama = 'Budi Setiawan'\n",
        "jurusan = \"Statistika\"\n",
        "alamat = \"\"\"Jl. K.H. Mas Mansyur No.128, RT.1/RW.17,\n",
        "Kb. Melati, Kecamatan Tanah Abang, Kota Jakarta Pusat,\n",
        "Daerah Khusus Ibukota Jakarta 10230\"\"\"\n",
        "alamat2 = \"Jl. K.H. Mas Mansyur No.128, RT.1/RW.17, \\nKb. Melati, Kecamatan Tanah Abang, Kota Jakarta Pusat, \\nDaerah Khusus Ibukota Jakarta 10230\""
      ],
      "metadata": {
        "id": "tfFrRBf-4yqk"
      },
      "execution_count": null,
      "outputs": []
    },
    {
      "cell_type": "code",
      "source": [
        "print(nama)"
      ],
      "metadata": {
        "colab": {
          "base_uri": "https://localhost:8080/"
        },
        "id": "KsPpUxH968VB",
        "outputId": "0bae5a2e-6e84-4627-b283-55131e8faff1"
      },
      "execution_count": null,
      "outputs": [
        {
          "output_type": "stream",
          "name": "stdout",
          "text": [
            "Budi Setiawan\n"
          ]
        }
      ]
    },
    {
      "cell_type": "code",
      "source": [
        "print(jurusan)"
      ],
      "metadata": {
        "colab": {
          "base_uri": "https://localhost:8080/"
        },
        "id": "gYmVgrxj6-u_",
        "outputId": "c830b127-882c-425d-85cb-394b41a36368"
      },
      "execution_count": null,
      "outputs": [
        {
          "output_type": "stream",
          "name": "stdout",
          "text": [
            "Statistika\n"
          ]
        }
      ]
    },
    {
      "cell_type": "code",
      "source": [
        "print(alamat)"
      ],
      "metadata": {
        "colab": {
          "base_uri": "https://localhost:8080/"
        },
        "id": "dhbCsj527BCL",
        "outputId": "b8e128b5-87a9-4ea5-ba5d-73dfaeb24015"
      },
      "execution_count": null,
      "outputs": [
        {
          "output_type": "stream",
          "name": "stdout",
          "text": [
            "Jl. K.H. Mas Mansyur No.128, RT.1/RW.17,\n",
            "Kb. Melati, Kecamatan Tanah Abang, Kota Jakarta Pusat,\n",
            "Daerah Khusus Ibukota Jakarta 10230\n"
          ]
        }
      ]
    },
    {
      "cell_type": "code",
      "source": [
        "print(alamat2)"
      ],
      "metadata": {
        "colab": {
          "base_uri": "https://localhost:8080/"
        },
        "id": "YnpO5Nnw7Dpz",
        "outputId": "a60ad7bb-8f59-498f-9cd3-0f1e2cd8671b"
      },
      "execution_count": null,
      "outputs": [
        {
          "output_type": "stream",
          "name": "stdout",
          "text": [
            "Jl. K.H. Mas Mansyur No.128, RT.1/RW.17, \n",
            "Kb. Melati, Kecamatan Tanah Abang, Kota Jakarta Pusat, \n",
            "Daerah Khusus Ibukota Jakarta 10230\n"
          ]
        }
      ]
    },
    {
      "cell_type": "markdown",
      "source": [
        "# Print Tipe Data\n",
        "Python akan secara otomatis mengenali jenis data atau tipe data yang tersimpan dalam sebuah variable. Untuk mengenali tipe data, dapat menjalankan fungsi type(). "
      ],
      "metadata": {
        "id": "53Wak-402SC2"
      }
    },
    {
      "cell_type": "code",
      "source": [
        "type(nama)"
      ],
      "metadata": {
        "colab": {
          "base_uri": "https://localhost:8080/"
        },
        "id": "YeYmnTGc7ggn",
        "outputId": "cae4cc77-1bb9-4236-e71a-151040aa4709"
      },
      "execution_count": null,
      "outputs": [
        {
          "output_type": "execute_result",
          "data": {
            "text/plain": [
              "str"
            ]
          },
          "metadata": {},
          "execution_count": 21
        }
      ]
    },
    {
      "cell_type": "code",
      "source": [
        "type(jml_mahasiswa)"
      ],
      "metadata": {
        "colab": {
          "base_uri": "https://localhost:8080/"
        },
        "id": "bbDc1-hE7qyM",
        "outputId": "096d8231-bae6-4507-e7ce-a3d5a724c26d"
      },
      "execution_count": null,
      "outputs": [
        {
          "output_type": "execute_result",
          "data": {
            "text/plain": [
              "int"
            ]
          },
          "metadata": {},
          "execution_count": 22
        }
      ]
    },
    {
      "cell_type": "code",
      "source": [
        "type(IPK)"
      ],
      "metadata": {
        "colab": {
          "base_uri": "https://localhost:8080/"
        },
        "id": "OL94tZ0H7wcm",
        "outputId": "5f46f934-9754-404a-a1b9-281fa1d76b73"
      },
      "execution_count": null,
      "outputs": [
        {
          "output_type": "execute_result",
          "data": {
            "text/plain": [
              "float"
            ]
          },
          "metadata": {},
          "execution_count": 23
        }
      ]
    },
    {
      "cell_type": "code",
      "source": [
        "type(ab)"
      ],
      "metadata": {
        "colab": {
          "base_uri": "https://localhost:8080/"
        },
        "id": "Nyco1YET74L1",
        "outputId": "ddf8ffec-aa96-49bd-90d8-70b97f3fef83"
      },
      "execution_count": null,
      "outputs": [
        {
          "output_type": "execute_result",
          "data": {
            "text/plain": [
              "complex"
            ]
          },
          "metadata": {},
          "execution_count": 24
        }
      ]
    }
  ]
}